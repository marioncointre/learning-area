{
 "cells": [
  {
   "cell_type": "markdown",
   "metadata": {},
   "source": [
    "### Morning Challenge"
   ]
  },
  {
   "cell_type": "code",
   "execution_count": 1,
   "metadata": {},
   "outputs": [],
   "source": [
    "# importing packages\n",
    "import numpy as np\n",
    "import pandas as pd"
   ]
  },
  {
   "cell_type": "markdown",
   "metadata": {},
   "source": [
    "In this morning challenge, you are going to try to create a pandas dataframe to visualize and analyze some data that you collected.\n",
    "\n",
    "While you are hanging out with your friends this past weekend, there was a discussion on which social media platform is used most often. You and your friends had different opinions on which platform sucks up the most time, so you decided to do a quick poll of your friends and try to utilize your newfound knowledge in Python to prove your friend wrong.\n",
    "\n",
    "You asked your friends on the total number of hours they spend on each social media platform - Twitter, Facebook, Instagram - per day. These are the answers:\n",
    "\n",
    "| Name | Twitter | Facebook | Instagram\n",
    "| --- | --- | --- | --- |\n",
    "| Mary | 2 | 4 | 1 |\n",
    "| Jacob | 3 | 0 | 0 |\n",
    "| Sabrina | 0 | 0.5 | 6 |\n",
    "| Nate | 1 | 1 | 1 |\n",
    "| Catherine | 0 | 5 | 0.5 |"
   ]
  },
  {
   "cell_type": "markdown",
   "metadata": {},
   "source": [
    "1. Create a DataFrame using the data above, with the names of the social media platforms as the column names and your friends' names as index. There are many ways to accomplish this; if you are stuck here is a way to tackle this:\n",
    "    1. Assign variables to:\n",
    "        - a list containing lists of the number of hours spent on social media for each person\n",
    "        - a list containing your friends name\n",
    "        - a list containing the names of the social media platforms\n",
    "    2. Create a Pandas DataFrame using `pd.DataFrame( )`, using your friends' names as index and the names of the social media platforms as column names"
   ]
  },
  {
   "cell_type": "code",
   "execution_count": null,
   "metadata": {},
   "outputs": [],
   "source": []
  },
  {
   "cell_type": "markdown",
   "metadata": {},
   "source": [
    "2. Calculate the total hours spent on each platform each day, and insert the results in a new column \"Total hours\" in the dataframe."
   ]
  },
  {
   "cell_type": "code",
   "execution_count": null,
   "metadata": {},
   "outputs": [],
   "source": []
  },
  {
   "cell_type": "markdown",
   "metadata": {},
   "source": [
    "3. Find out who does not use facebook by filtering the dataframe and display the results."
   ]
  },
  {
   "cell_type": "code",
   "execution_count": null,
   "metadata": {},
   "outputs": [],
   "source": []
  },
  {
   "cell_type": "markdown",
   "metadata": {},
   "source": [
    "4. Calculate the mean hours spent on each platform. "
   ]
  },
  {
   "cell_type": "code",
   "execution_count": null,
   "metadata": {},
   "outputs": [],
   "source": []
  },
  {
   "cell_type": "markdown",
   "metadata": {},
   "source": [
    "Based on the calculations, which platforms do your friends spend the most time on? Do you agree with that?"
   ]
  },
  {
   "cell_type": "markdown",
   "metadata": {},
   "source": [
    "### Bonus\n",
    "\n",
    "One of your friends, who recently heard that you are learning python, decides to give you a little challenge and gave you a piece of code that contains the name of the person and the number of hours spent on each platform in the following format:"
   ]
  },
  {
   "cell_type": "code",
   "execution_count": 2,
   "metadata": {},
   "outputs": [],
   "source": [
    "my_list = [(\"Holly\", [2.7,4,0]),(\"Peter\", [0,0,0]),(\"Max\", [1,0.5,5]),(\"Angel\", [2,1,1])]"
   ]
  },
  {
   "cell_type": "markdown",
   "metadata": {},
   "source": [
    "If you create a panda dataframe with this list it creates a dataframe that is in the wrong format like this;"
   ]
  },
  {
   "cell_type": "code",
   "execution_count": 3,
   "metadata": {
    "scrolled": true
   },
   "outputs": [
    {
     "data": {
      "text/html": [
       "<div>\n",
       "<style scoped>\n",
       "    .dataframe tbody tr th:only-of-type {\n",
       "        vertical-align: middle;\n",
       "    }\n",
       "\n",
       "    .dataframe tbody tr th {\n",
       "        vertical-align: top;\n",
       "    }\n",
       "\n",
       "    .dataframe thead th {\n",
       "        text-align: right;\n",
       "    }\n",
       "</style>\n",
       "<table border=\"1\" class=\"dataframe\">\n",
       "  <thead>\n",
       "    <tr style=\"text-align: right;\">\n",
       "      <th></th>\n",
       "      <th>0</th>\n",
       "      <th>1</th>\n",
       "    </tr>\n",
       "  </thead>\n",
       "  <tbody>\n",
       "    <tr>\n",
       "      <th>0</th>\n",
       "      <td>Holly</td>\n",
       "      <td>[2.7, 4, 0]</td>\n",
       "    </tr>\n",
       "    <tr>\n",
       "      <th>1</th>\n",
       "      <td>Peter</td>\n",
       "      <td>[0, 0, 0]</td>\n",
       "    </tr>\n",
       "    <tr>\n",
       "      <th>2</th>\n",
       "      <td>Max</td>\n",
       "      <td>[1, 0.5, 5]</td>\n",
       "    </tr>\n",
       "    <tr>\n",
       "      <th>3</th>\n",
       "      <td>Angel</td>\n",
       "      <td>[2, 1, 1]</td>\n",
       "    </tr>\n",
       "  </tbody>\n",
       "</table>\n",
       "</div>"
      ],
      "text/plain": [
       "       0            1\n",
       "0  Holly  [2.7, 4, 0]\n",
       "1  Peter    [0, 0, 0]\n",
       "2    Max  [1, 0.5, 5]\n",
       "3  Angel    [2, 1, 1]"
      ]
     },
     "execution_count": 3,
     "metadata": {},
     "output_type": "execute_result"
    }
   ],
   "source": [
    "pd.DataFrame(my_list)"
   ]
  },
  {
   "cell_type": "markdown",
   "metadata": {},
   "source": [
    "The bonus challenge is to use loops to pull out the information in the list and create a dataframe with the information. "
   ]
  },
  {
   "cell_type": "code",
   "execution_count": null,
   "metadata": {},
   "outputs": [],
   "source": []
  }
 ],
 "metadata": {
  "kernelspec": {
   "display_name": "Python 3",
   "language": "python",
   "name": "python3"
  },
  "language_info": {
   "codemirror_mode": {
    "name": "ipython",
    "version": 3
   },
   "file_extension": ".py",
   "mimetype": "text/x-python",
   "name": "python",
   "nbconvert_exporter": "python",
   "pygments_lexer": "ipython3",
   "version": "3.7.1"
  }
 },
 "nbformat": 4,
 "nbformat_minor": 2
}
